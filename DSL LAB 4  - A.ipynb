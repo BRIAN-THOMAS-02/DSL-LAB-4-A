{
 "cells": [
  {
   "cell_type": "markdown",
   "id": "3e235e3e",
   "metadata": {},
   "source": [
    "<div class='alert alert-success'>\n",
    "\n",
    "# <center align> DSL LAB 4\n",
    "    \n",
    "</div>"
   ]
  },
  {
   "cell_type": "markdown",
   "id": "9c1e2c32",
   "metadata": {},
   "source": [
    "<div>\n",
    "\n",
    "#### Write a python program to store roll numbers of student in array who attended training program in random order. Write function for searching whether particular student attended training program or not, using <br>\n",
    "    \n",
    "#### 1) Linear search   \n",
    "#### 2) Sentinel search  \n",
    "\n",
    "</div>"
   ]
  },
  {
   "cell_type": "markdown",
   "id": "5463940e",
   "metadata": {},
   "source": [
    "***"
   ]
  },
  {
   "cell_type": "markdown",
   "id": "f60a89e7",
   "metadata": {},
   "source": [
    "<div class=\"alert alert-success\">\n",
    "\n",
    "## <center align> Linear Search\n",
    "\n",
    "</div>"
   ]
  },
  {
   "cell_type": "markdown",
   "id": "2d6221ba",
   "metadata": {},
   "source": [
    "<div>\n",
    "\n",
    "The idea behind linear search is to compare the search item with the elements in the list one by one (using a loop) and stop as soon as we get the first copy of the search element in the list. Now considering the worst case in which the search element does not exist in the list of size N then the Simple Linear Search will take a total of 2N+1 comparisons (N comparisons against every element in the search list and N+1 comparisons to test against the end of the loop condition).\n",
    "\n",
    "</div>"
   ]
  },
  {
   "cell_type": "markdown",
   "id": "a54ded5d",
   "metadata": {},
   "source": [
    "<div class=\"alert alert-warning\">\n",
    "\n",
    "## <center align> Output with Explanation\n",
    "\n",
    "</div>"
   ]
  },
  {
   "cell_type": "code",
   "execution_count": 107,
   "id": "e4367c07",
   "metadata": {},
   "outputs": [
    {
     "name": "stdout",
     "output_type": "stream",
     "text": [
      "\n",
      "\n",
      "\t\t\t LINEAR SEARCH\n",
      "\n",
      "\n",
      "Attendees           :  [1, 5, 8, 6, 9, 4, 2, 55, 66, 99, 44, 21, 54, 87]\n",
      "Number of Attendees :  14\n",
      " \n",
      "Enter Attendee Number : 2\n",
      "\n",
      "\n",
      "i  | attendees[i] == search element ? | Boolean\n",
      "0  |       1      ==       2         |  False\n",
      "1  |       5      ==       2         |  False\n",
      "2  |       8      ==       2         |  False\n",
      "3  |       6      ==       2         |  False\n",
      "4  |       9      ==       2         |  False\n",
      "5  |       4      ==       2         |  False\n",
      "6  |       2      ==       2         |  True\n",
      " \n",
      "With Linear Search\n",
      "2 is present at position 6\n"
     ]
    }
   ],
   "source": [
    "print(\"\\n\\n\\t\\t\\t LINEAR SEARCH\\n\\n\")\n",
    "\n",
    "global attendees, x\n",
    "attendees = []\n",
    "\n",
    "\"\"\"number_of_people = int(input(\"Enter Number of Students : \"))\n",
    "\n",
    "print(\"Enter Roll No.'s of Present Students \")\n",
    "for h in range(int(number_of_people)):\n",
    "    xyz = int(input())\n",
    "    attendees.append(xyz)\"\"\"\n",
    "\n",
    "attendees = [1, 5, 8, 6, 9, 4, 2, 55, 66, 99, 44, 21, 54, 87]\n",
    "\n",
    "print(\"Attendees           : \", attendees)\n",
    "\n",
    "number_of_attendees = len(attendees)\n",
    "print(\"Number of Attendees : \", number_of_attendees)\n",
    "\n",
    "print(\" \")\n",
    "x = int(input(\"Enter Attendee Number : \"))\n",
    "\n",
    "\n",
    "def linear_search(x):\n",
    "    print(\"\\n\\ni  | attendees[i] == search element ? | Boolean\" )\n",
    "    for i in range(len(attendees)):\n",
    "        print(i, \" |      \", attendees[i], \"     ==      \", x, \"        | \", attendees[i] == x)\n",
    "        if (attendees[i] == x):\n",
    "            return i\n",
    "\n",
    "    return -1\n",
    "\n",
    "\n",
    "linear_search_result = linear_search(x)\n",
    "print(\" \")\n",
    "print(\"With Linear Search\")\n",
    "if (linear_search_result == -1):\n",
    "    print(x, \"is Absent\")\n",
    "else:\n",
    "    print(x, \"is present at position\", linear_search_result)"
   ]
  },
  {
   "cell_type": "markdown",
   "id": "247701e4",
   "metadata": {},
   "source": [
    "***"
   ]
  },
  {
   "cell_type": "markdown",
   "id": "c8f03066",
   "metadata": {},
   "source": [
    "<div class=\"alert alert-success\">\n",
    "\n",
    "## <center align>Linear Search with Simple Output\n",
    "\n",
    "</div>"
   ]
  },
  {
   "cell_type": "code",
   "execution_count": 106,
   "id": "710723fc",
   "metadata": {},
   "outputs": [
    {
     "name": "stdout",
     "output_type": "stream",
     "text": [
      "\n",
      "\n",
      "\t\t\t LINEAR SEARCH\n",
      "\n",
      "\n",
      "Attendees           :  [1, 5, 8, 6, 9, 4, 2, 55, 66, 99, 44, 21, 54, 87]\n",
      "Number of Attendees :  14\n",
      " \n",
      "Enter Attendee Number : 2\n",
      " \n",
      "With Linear Search\n",
      "2 is present at position 6\n"
     ]
    }
   ],
   "source": [
    "print(\"\\n\\n\\t\\t\\t LINEAR SEARCH\\n\\n\")\n",
    "\n",
    "global attendees, x\n",
    "attendees = []\n",
    "\n",
    "\"\"\"number_of_people = int(input(\"Enter Number of Students : \"))\n",
    "\n",
    "print(\"Enter Roll No.'s of Present Students \")\n",
    "for h in range(int(number_of_people)):\n",
    "    xyz = int(input())\n",
    "    attendees.append(xyz)\"\"\"\n",
    "\n",
    "attendees = [1, 5, 8, 6, 9, 4, 2, 55, 66, 99, 44, 21, 54, 87]\n",
    "\n",
    "print(\"Attendees           : \", attendees)\n",
    "\n",
    "number_of_attendees = len(attendees)\n",
    "print(\"Number of Attendees : \", number_of_attendees)\n",
    "\n",
    "print(\" \")\n",
    "x = int(input(\"Enter Attendee Number : \"))\n",
    "\n",
    "\n",
    "def linear_search(x):\n",
    "    for i in range(len(attendees)):\n",
    "        if (attendees[i] == x):\n",
    "            return i\n",
    "\n",
    "    return -1\n",
    "\n",
    "linear_search_result = linear_search(x)\n",
    "print(\" \")\n",
    "print(\"With Linear Search\")\n",
    "if (linear_search_result == -1):\n",
    "    print(x, \"is Absent\")\n",
    "else:\n",
    "    print(x, \"is present at position\", linear_search_result)"
   ]
  },
  {
   "cell_type": "markdown",
   "id": "97d9827b",
   "metadata": {},
   "source": [
    "***"
   ]
  },
  {
   "cell_type": "markdown",
   "id": "e94e6def",
   "metadata": {},
   "source": [
    "<div class=\"alert alert-success\">\n",
    "\n",
    "## <center align> Sentinel Search\n",
    "\n",
    "</div>"
   ]
  },
  {
   "cell_type": "markdown",
   "id": "be7f7ca8",
   "metadata": {},
   "source": [
    "<div>\n",
    "\n",
    "Here the idea is to reduce the number of comparisons required to find an element in a list. Here we replace the last element of the list with the search element itself and run a while loop to see if there exists any copy of the search element in the list and quit the loop as soon as we find the search element. See the code snippet for clarification.\n",
    "\n",
    "</div>"
   ]
  },
  {
   "cell_type": "markdown",
   "id": "1dd55ef4",
   "metadata": {},
   "source": [
    "<div class=\"alert alert-warning\">\n",
    "\n",
    "## <center align> Output with Explanation\n",
    "\n",
    "</div>"
   ]
  },
  {
   "cell_type": "code",
   "execution_count": 109,
   "id": "6c6948e1",
   "metadata": {},
   "outputs": [
    {
     "name": "stdout",
     "output_type": "stream",
     "text": [
      "\n",
      "\n",
      "\t\t\tSENTINEL SEARCH\n",
      "\n",
      "\n",
      "Attendees           :  [1, 5, 8, 6, 9, 4, 2, 55, 66, 99, 44, 21, 54, 87]\n",
      "Number of Attendees :  14\n",
      "\n",
      "Enter Attendee Number : 2\n",
      "\n",
      "Temporarily assigning the last element of array to variable, 'last' :  87\n",
      "\n",
      "Temporarily assigning the search element to the last position of array :  2 \n",
      "\n",
      "Array :  [1, 5, 8, 6, 9, 4, 2, 55, 66, 99, 44, 21, 54, 2]\n",
      "\n",
      "Looping through the array and checking if search element is present by comparing search element with each element of array\n",
      "\n",
      "i  | attendees[i] == x  | Boolean\n",
      "0  |       1      == 2  |  False\n",
      "1  |       5      == 2  |  False\n",
      "2  |       8      == 2  |  False\n",
      "3  |       6      == 2  |  False\n",
      "4  |       9      == 2  |  False\n",
      "5  |       4      == 2  |  False\n",
      "\n",
      "\n",
      "Before Reassigning,  Array =  [1, 5, 8, 6, 9, 4, 2, 55, 66, 99, 44, 21, 54, 2]\n",
      "\n",
      "Reassign the 'original value' to the last position of Array =  87\n",
      "\n",
      "After Reassigning, Array   =  [1, 5, 8, 6, 9, 4, 2, 55, 66, 99, 44, 21, 54, 87]\n",
      "\n",
      "\n",
      "Checking if Iterator(i) is less than the (Total Number of Attendees - 1) or if the Last Element of the Array is equal to the Search Element\n",
      "\n",
      "\n",
      "i < (number_of_attendees-1) | Boolean | OR | attendees[number_of_attendees-1] == x | Boolean\n",
      "6 <            13           |  True   | OR |                     87           == 2 |  False \n",
      "\n",
      "\n",
      "Since Condition is Satisfied : \n",
      "2 is Present at position  6\n"
     ]
    }
   ],
   "source": [
    "print(\"\\n\\n\\t\\t\\tSENTINEL SEARCH\\n\\n\")\n",
    "\n",
    "global attendees, x\n",
    "attendees = []\n",
    "\n",
    "\"\"\"number_of_people = int(input(\"Enter Number of Students : \"))\n",
    "\n",
    "print(\"Enter Roll No.'s of Present Students \")\n",
    "for h in range(int(number_of_people)):\n",
    "    xyz = int(input())\n",
    "    attendees.append(xyz)\"\"\"\n",
    "\n",
    "attendees = [1, 5, 8, 6, 9, 4, 2, 55, 66, 99, 44, 21, 54, 87]\n",
    "\n",
    "print(\"Attendees           : \", attendees)\n",
    "\n",
    "number_of_attendees = len(attendees)\n",
    "print(\"Number of Attendees : \", number_of_attendees)\n",
    "\n",
    "x = int(input(\"\\nEnter Attendee Number : \"))\n",
    "\n",
    "sentinel_search(x)\n",
    "\n",
    "\n",
    "def sentinel_search(x):\n",
    "    last = attendees[number_of_attendees-1]\n",
    "    print(\"\\nTemporarily assigning the last element of array to variable, 'last' : \", last)\n",
    "    \n",
    "    attendees[number_of_attendees-1] = x\n",
    "    print(\"\\nTemporarily assigning the search element to the last position of array : \", attendees[number_of_attendees-1], \"\\n\")\n",
    "    \n",
    "    print(\"Array : \", attendees)\n",
    "\n",
    "    print(\"\\nLooping through the array and checking if search element is present by comparing search element with each element of array\\n\")\n",
    "    \n",
    "    i = 0\n",
    "    print(\"i  | attendees[i] == x  | Boolean\")\n",
    "    while (attendees[i] != x):\n",
    "        print(i, \" |      \", attendees[i], \"     ==\", x, \" | \", attendees[i]== x)\n",
    "        i = i + 1\n",
    "    \n",
    "    print(\"\")\n",
    "    print(\"\\nBefore Reassigning,  Array = \", attendees)\n",
    "    attendees[number_of_attendees-1] = last\n",
    "    print(\"\\nReassign the 'original value' to the last position of Array = \", last)\n",
    "    print(\"\\nAfter Reassigning, Array   = \", attendees)\n",
    "    \n",
    "    print(\"\\n\\nChecking if Iterator(i) is less than the (Total Number of Attendees - 1) or if the Last Element of the Array is equal to the Search Element\\n\")\n",
    "    print(\"\\ni < (number_of_attendees-1) | Boolean | OR | attendees[number_of_attendees-1] == x | Boolean\")\n",
    "    print(i, \"<           \", number_of_attendees-1, \"          | \", i < number_of_attendees-1, \"  | OR |                    \", attendees[number_of_attendees-1], \"          ==\", x, \"| \", attendees[number_of_attendees-1] == x,\"\\n\")\n",
    "    if ((i < number_of_attendees-1) or attendees[number_of_attendees-1] == x):\n",
    "        print(\"\\nSince Condition is Satisfied : \")\n",
    "        print(x, \"is Present at position \", i)\n",
    "    else:\n",
    "        print(\"\\nSince Condition is Not Satisfied : \")\n",
    "        print(x, \"is Absent\")"
   ]
  },
  {
   "cell_type": "markdown",
   "id": "fd599f97",
   "metadata": {},
   "source": [
    "***"
   ]
  },
  {
   "cell_type": "markdown",
   "id": "542bf8b3",
   "metadata": {},
   "source": [
    "<div class=\"alert alert-success\">\n",
    "\n",
    "## <center align>Sentinel Search with Simple Output\n",
    "\n",
    "</div>"
   ]
  },
  {
   "cell_type": "code",
   "execution_count": 112,
   "id": "b1544b97",
   "metadata": {},
   "outputs": [
    {
     "name": "stdout",
     "output_type": "stream",
     "text": [
      "\n",
      "\n",
      "\t\t\tSENTINEL SEARCH\n",
      "\n",
      "\n",
      "Attendees           :  [1, 5, 8, 6, 9, 4, 2, 55, 66, 99, 44, 21, 54, 87]\n",
      "Number of Attendees :  14\n",
      " \n",
      "Enter Attendee Number : 2\n",
      " \n",
      "With Sentinel Search\n",
      "2 is Present at position  6\n"
     ]
    }
   ],
   "source": [
    "print(\"\\n\\n\\t\\t\\tSENTINEL SEARCH\\n\\n\")\n",
    "\n",
    "global attendees, x\n",
    "attendees = []\n",
    "\n",
    "\"\"\"number_of_people = int(input(\"Enter Number of Students : \"))\n",
    "\n",
    "print(\"Enter Roll No.'s of Present Students \")\n",
    "for h in range(int(number_of_people)):\n",
    "    xyz = int(input())\n",
    "    attendees.append(xyz)\"\"\"\n",
    "\n",
    "attendees = [1, 5, 8, 6, 9, 4, 2, 55, 66, 99, 44, 21, 54, 87]\n",
    "\n",
    "print(\"Attendees           : \", attendees)\n",
    "\n",
    "number_of_attendees = len(attendees)\n",
    "print(\"Number of Attendees : \", number_of_attendees)\n",
    "\n",
    "print(\" \")\n",
    "x = int(input(\"Enter Attendee Number : \"))\n",
    "\n",
    "\n",
    "print(\" \")\n",
    "print(\"With Sentinel Search\")\n",
    "sentinel_search(x)\n",
    "\n",
    "\n",
    "def sentinel_search(x):\n",
    "    last = attendees[number_of_attendees-1]\n",
    "    attendees[number_of_attendees-1] = x\n",
    "\n",
    "    i = 0\n",
    "    while (attendees[i] != x):\n",
    "        i = i + 1\n",
    "    attendees[number_of_attendees-1] = last\n",
    "    if ((i < number_of_attendees-1) or attendees[number_of_attendees-1] == x):\n",
    "        print(x, \"is Present at position \", i)\n",
    "    else:\n",
    "        print(x, \"is Absent\")"
   ]
  },
  {
   "cell_type": "markdown",
   "id": "10a3891a",
   "metadata": {},
   "source": [
    "***"
   ]
  },
  {
   "cell_type": "markdown",
   "id": "59c836fc",
   "metadata": {},
   "source": [
    "<div class=\"alert alert-success\">\n",
    "\n",
    "## <center align> Whole Program\n",
    "\n",
    "</div>"
   ]
  },
  {
   "cell_type": "code",
   "execution_count": 110,
   "id": "8eaa94b6",
   "metadata": {},
   "outputs": [
    {
     "name": "stdout",
     "output_type": "stream",
     "text": [
      "Attendees           :  [1, 5, 8, 6, 9, 4, 2, 55, 66, 99, 44, 21, 54, 87]\n",
      "Number of Attendees :  14\n",
      " \n",
      "Enter Attendee Number : 2\n",
      " \n",
      "With Linear Search\n",
      "2 is present at position 6\n",
      " \n",
      "With Sentinel Search\n",
      "2 is Present at position  6\n"
     ]
    }
   ],
   "source": [
    "global attendees, x\n",
    "attendees = []\n",
    "\n",
    "\"\"\"number_of_people = int(input(\"Enter Number of Students : \"))\n",
    "\n",
    "print(\"Enter Roll No.'s of Present Students \")\n",
    "for h in range(int(number_of_people)):\n",
    "    xyz = int(input())\n",
    "    attendees.append(xyz)\"\"\"\n",
    "\n",
    "attendees = [1, 5, 8, 6, 9, 4, 2, 55, 66, 99, 44, 21, 54, 87]\n",
    "\n",
    "print(\"Attendees           : \", attendees)\n",
    "\n",
    "number_of_attendees = len(attendees)\n",
    "print(\"Number of Attendees : \", number_of_attendees)\n",
    "\n",
    "print(\" \")\n",
    "x = int(input(\"Enter Attendee Number : \"))\n",
    "\n",
    "\n",
    "def linear_search(x):\n",
    "    for i in range(len(attendees)):\n",
    "        if (attendees[i] == x):\n",
    "            return i\n",
    "\n",
    "    return -1\n",
    "\n",
    "\n",
    "def sentinel_search(x):\n",
    "    last = attendees[number_of_attendees-1]\n",
    "    attendees[number_of_attendees-1] = x\n",
    "\n",
    "    i = 0\n",
    "    while (attendees[i] != x):\n",
    "        i = i + 1\n",
    "    attendees[number_of_attendees-1] = last\n",
    "    if ((i < number_of_attendees-1) or attendees[number_of_attendees-1] == x):\n",
    "        print(x, \"is Present at position \", i)\n",
    "    else:\n",
    "        print(x, \"is Absent\")\n",
    "\n",
    "linear_search_result = linear_search(x)\n",
    "print(\" \")\n",
    "print(\"With Linear Search\")\n",
    "if (linear_search_result == -1):\n",
    "    print(x, \"is Absent\")\n",
    "else:\n",
    "    print(x, \"is present at position\", linear_search_result)\n",
    "\n",
    "\n",
    "print(\" \")\n",
    "print(\"With Sentinel Search\")\n",
    "sentinel_search(x)\n"
   ]
  },
  {
   "cell_type": "markdown",
   "id": "afefb43b",
   "metadata": {},
   "source": [
    "***"
   ]
  },
  {
   "cell_type": "markdown",
   "id": "23d7781d",
   "metadata": {},
   "source": [
    "<div class=\"alert alert-warning\">\n",
    "\n",
    "## <center align> Thank - You\n",
    "\n",
    "</div>"
   ]
  }
 ],
 "metadata": {
  "kernelspec": {
   "display_name": "Python 3 (ipykernel)",
   "language": "python",
   "name": "python3"
  },
  "language_info": {
   "codemirror_mode": {
    "name": "ipython",
    "version": 3
   },
   "file_extension": ".py",
   "mimetype": "text/x-python",
   "name": "python",
   "nbconvert_exporter": "python",
   "pygments_lexer": "ipython3",
   "version": "3.8.10"
  }
 },
 "nbformat": 4,
 "nbformat_minor": 5
}
